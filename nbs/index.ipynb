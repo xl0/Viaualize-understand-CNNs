{
 "cells": [
  {
   "cell_type": "code",
   "execution_count": null,
   "metadata": {},
   "outputs": [],
   "source": [
    "#| hide\n",
    "# from lib import *"
   ]
  },
  {
   "cell_type": "markdown",
   "metadata": {},
   "source": [
    "# Visualize-Understand-CNNs\n",
    "\n",
    "> My attempt at the Zeiler and Fergus paper \"Visualizing and Understanding Convolutional Networks\"\n",
    "\n",
    "https://arxiv.org/abs/1311.2901"
   ]
  }
 ],
 "metadata": {
  "kernelspec": {
   "display_name": "Python 3.10.6 ('torch')",
   "language": "python",
   "name": "python3"
  }
 },
 "nbformat": 4,
 "nbformat_minor": 4
}
